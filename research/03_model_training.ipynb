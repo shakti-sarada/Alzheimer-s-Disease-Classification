{
 "cells": [
  {
   "cell_type": "code",
   "execution_count": 1,
   "metadata": {},
   "outputs": [
    {
     "data": {
      "text/plain": [
       "'c:\\\\Users\\\\dell\\\\Desktop\\\\Alzheimer-s-Disease-Classification'"
      ]
     },
     "execution_count": 1,
     "metadata": {},
     "output_type": "execute_result"
    }
   ],
   "source": [
    "import os\n",
    "os.chdir(\"../\")\n",
    "%pwd"
   ]
  },
  {
   "cell_type": "code",
   "execution_count": 2,
   "metadata": {},
   "outputs": [],
   "source": [
    "from dataclasses import dataclass\n",
    "from pathlib import Path\n",
    "\n",
    "@dataclass(frozen=True)\n",
    "class TrainingConfig:\n",
    "    root_dir: Path\n",
    "    trained_model_path: Path\n",
    "    updated_base_model_path: Path\n",
    "    training_data: Path\n",
    "    params_epochs: int\n",
    "    params_batch_size: int\n",
    "    params_is_augmentation: bool\n",
    "    params_image_size: list"
   ]
  },
  {
   "cell_type": "code",
   "execution_count": 3,
   "metadata": {},
   "outputs": [],
   "source": [
    "from AlzheimerDiseaseClassification.constants import *\n",
    "from AlzheimerDiseaseClassification.utils.common import read_yaml,create_directories\n",
    "import tensorflow as ts"
   ]
  },
  {
   "cell_type": "code",
   "execution_count": 4,
   "metadata": {},
   "outputs": [],
   "source": [
    "class ConfigurationManager:\n",
    "    def __init__(\n",
    "        self,\n",
    "        config_filepath = CONFIG_FILE_PATH,\n",
    "        params_filepath = PARAMS_FILE_PATH):\n",
    "\n",
    "        self.config = read_yaml(config_filepath)\n",
    "        self.params = read_yaml(params_filepath)\n",
    "\n",
    "        create_directories([self.config.artifacts_root])\n",
    "\n",
    "    def get_training_config(self) -> TrainingConfig:\n",
    "        training = self.config.training\n",
    "        prepare_base_model = self.config.prepare_base_model\n",
    "        params = self.params\n",
    "        training_data = os.path.join(self.config.data_ingestion.unzip_dir,\"Alzheimer_s Dataset\")\n",
    "        create_directories([\n",
    "            Path(training.root_dir)\n",
    "        ])\n",
    "\n",
    "        training_config = TrainingConfig(\n",
    "            root_dir=Path(training.root_dir),\n",
    "            trained_model_path=Path(training.trained_model_path),\n",
    "            updated_base_model_path=Path(prepare_base_model.updated_base_model_path),\n",
    "            training_data=Path(training_data),\n",
    "            params_epochs=params.EPOCHS,\n",
    "            params_batch_size=params.BATCH_SIZE,\n",
    "            params_is_augmentation=params.AUGMENTATION,\n",
    "            params_image_size=params.IMAGE_SIZE\n",
    "        )\n",
    "\n",
    "        return training_config"
   ]
  },
  {
   "cell_type": "code",
   "execution_count": 5,
   "metadata": {},
   "outputs": [],
   "source": [
    "import os\n",
    "import urllib.request as request\n",
    "from zipfile import ZipFile\n",
    "import tensorflow as tf\n",
    "import time"
   ]
  },
  {
   "cell_type": "code",
   "execution_count": 6,
   "metadata": {},
   "outputs": [],
   "source": [
    "class Training:\n",
    "    def __init__(self,config:TrainingConfig):\n",
    "        self.config = config\n",
    "\n",
    "    def get_base_model(self):\n",
    "        self.model = tf.keras.models.load_model(\n",
    "            self.config.updated_base_model_path\n",
    "        )\n",
    "\n",
    "    def train_valid_generator(self):\n",
    "\n",
    "        datagenerator_kwargs = dict(\n",
    "            rescale = 1./255,\n",
    "            validation_split=0.20\n",
    "        )\n",
    "\n",
    "        dataflow_kwargs = dict(\n",
    "            target_size=self.config.params_image_size[:-1],\n",
    "            batch_size=self.config.params_batch_size,\n",
    "            interpolation=\"bilinear\"\n",
    "        )\n",
    "\n",
    "        valid_datagenerator = tf.keras.preprocessing.image.ImageDataGenerator(\n",
    "            **datagenerator_kwargs\n",
    "        )\n",
    "\n",
    "        self.valid_generator = valid_datagenerator.flow_from_directory(\n",
    "            directory=self.config.training_data,\n",
    "            subset=\"validation\",\n",
    "            shuffle=False,\n",
    "            **dataflow_kwargs\n",
    "        )\n",
    "\n",
    "        if self.config.params_is_augmentation:\n",
    "            train_datagenerator = tf.keras.preprocessing.image.ImageDataGenerator(\n",
    "                rotation_range=40,\n",
    "                horizontal_flip=True,\n",
    "                width_shift_range=0.2,\n",
    "                height_shift_range=0.2,\n",
    "                shear_range=0.2,\n",
    "                zoom_range=0.2,\n",
    "                **datagenerator_kwargs\n",
    "            )\n",
    "        else:\n",
    "            train_datagenerator = valid_datagenerator\n",
    "\n",
    "        self.train_generator = train_datagenerator.flow_from_directory(\n",
    "            directory=self.config.training_data,\n",
    "            subset=\"training\",\n",
    "            shuffle=True,\n",
    "            **dataflow_kwargs\n",
    "        )\n",
    "\n",
    "    @staticmethod\n",
    "    def save_model(path: Path, model: tf.keras.Model):\n",
    "        model.save(path)\n",
    "\n",
    "    def train(self):\n",
    "        self.steps_per_epoch = self.train_generator.samples // self.train_generator.batch_size\n",
    "        self.validation_steps = self.valid_generator.samples // self.valid_generator.batch_size\n",
    "\n",
    "        self.model.fit(\n",
    "            self.train_generator,\n",
    "            epochs=self.config.params_epochs,\n",
    "            steps_per_epoch=self.steps_per_epoch,\n",
    "            validation_steps=self.validation_steps,\n",
    "            validation_data = self.valid_generator\n",
    "        )\n",
    "\n",
    "        self.save_model(\n",
    "            path=self.config.trained_model_path,\n",
    "            model=self.model\n",
    "        )"
   ]
  },
  {
   "cell_type": "code",
   "execution_count": 8,
   "metadata": {},
   "outputs": [
    {
     "name": "stdout",
     "output_type": "stream",
     "text": [
      "[2024-02-18 19:22:29,882: INFO: common: yaml file: config\\config.yaml loaded successfully]\n",
      "[2024-02-18 19:22:29,932: INFO: common: yaml file: params.yaml loaded successfully]\n",
      "[2024-02-18 19:22:29,933: INFO: common: created directory at: artifacts]\n",
      "[2024-02-18 19:22:29,934: INFO: common: created directory at: artifacts\\training]\n"
     ]
    },
    {
     "name": "stdout",
     "output_type": "stream",
     "text": [
      "Found 1243 images belonging to 2 classes.\n",
      "Found 4976 images belonging to 2 classes.\n",
      "Epoch 1/15\n",
      "4976/4976 [==============================] - 1348s 271ms/step - loss: 31.2668 - accuracy: 0.5633 - val_loss: 26.1057 - val_accuracy: 0.6549\n",
      "Epoch 2/15\n",
      "4976/4976 [==============================] - 1312s 264ms/step - loss: 29.5636 - accuracy: 0.5928 - val_loss: 16.5508 - val_accuracy: 0.7136\n",
      "Epoch 3/15\n",
      "4976/4976 [==============================] - 1315s 264ms/step - loss: 28.7577 - accuracy: 0.6031 - val_loss: 17.0656 - val_accuracy: 0.6581\n",
      "Epoch 4/15\n",
      "4976/4976 [==============================] - 1303s 262ms/step - loss: 27.3354 - accuracy: 0.6298 - val_loss: 23.1984 - val_accuracy: 0.6581\n",
      "Epoch 5/15\n",
      "4976/4976 [==============================] - 1298s 261ms/step - loss: 27.5049 - accuracy: 0.6292 - val_loss: 55.8416 - val_accuracy: 0.5278\n",
      "Epoch 6/15\n",
      "4976/4976 [==============================] - 1307s 263ms/step - loss: 27.4508 - accuracy: 0.6344 - val_loss: 40.7923 - val_accuracy: 0.5615\n",
      "Epoch 7/15\n",
      "4976/4976 [==============================] - 1273s 256ms/step - loss: 27.7735 - accuracy: 0.6226 - val_loss: 32.7181 - val_accuracy: 0.5953\n",
      "Epoch 8/15\n",
      "4976/4976 [==============================] - 1277s 257ms/step - loss: 27.2244 - accuracy: 0.6344 - val_loss: 9.6626 - val_accuracy: 0.7273\n",
      "Epoch 9/15\n",
      "4976/4976 [==============================] - 1281s 257ms/step - loss: 27.7369 - accuracy: 0.6290 - val_loss: 88.7171 - val_accuracy: 0.4851\n",
      "Epoch 10/15\n",
      "4976/4976 [==============================] - 1283s 258ms/step - loss: 25.7792 - accuracy: 0.6457 - val_loss: 14.9791 - val_accuracy: 0.6911\n",
      "Epoch 11/15\n",
      "4976/4976 [==============================] - 1291s 259ms/step - loss: 26.7583 - accuracy: 0.6407 - val_loss: 15.6737 - val_accuracy: 0.6653\n",
      "Epoch 12/15\n",
      "4976/4976 [==============================] - 1283s 258ms/step - loss: 26.6653 - accuracy: 0.6393 - val_loss: 10.4930 - val_accuracy: 0.7442\n",
      "Epoch 13/15\n",
      "4976/4976 [==============================] - 1292s 260ms/step - loss: 26.4228 - accuracy: 0.6441 - val_loss: 20.8312 - val_accuracy: 0.6621\n",
      "Epoch 14/15\n",
      "4976/4976 [==============================] - 1275s 256ms/step - loss: 26.5858 - accuracy: 0.6465 - val_loss: 39.0913 - val_accuracy: 0.5688\n",
      "Epoch 15/15\n",
      "4976/4976 [==============================] - 1278s 257ms/step - loss: 25.9105 - accuracy: 0.6459 - val_loss: 15.7663 - val_accuracy: 0.7047\n"
     ]
    },
    {
     "name": "stderr",
     "output_type": "stream",
     "text": [
      "c:\\Users\\dell\\anaconda3\\envs\\alzheimer\\lib\\site-packages\\keras\\src\\engine\\training.py:3000: UserWarning: You are saving your model as an HDF5 file via `model.save()`. This file format is considered legacy. We recommend using instead the native Keras format, e.g. `model.save('my_model.keras')`.\n",
      "  saving_api.save_model(\n"
     ]
    }
   ],
   "source": [
    "try:\n",
    "    config = ConfigurationManager()\n",
    "    training_config = config.get_training_config()\n",
    "    training = Training(config=training_config)\n",
    "    training.get_base_model()\n",
    "    training.train_valid_generator()\n",
    "    training.train()\n",
    "\n",
    "except Exception as e:\n",
    "    raise e"
   ]
  },
  {
   "cell_type": "code",
   "execution_count": null,
   "metadata": {},
   "outputs": [],
   "source": []
  }
 ],
 "metadata": {
  "kernelspec": {
   "display_name": "alzheimer",
   "language": "python",
   "name": "python3"
  },
  "language_info": {
   "codemirror_mode": {
    "name": "ipython",
    "version": 3
   },
   "file_extension": ".py",
   "mimetype": "text/x-python",
   "name": "python",
   "nbconvert_exporter": "python",
   "pygments_lexer": "ipython3",
   "version": "3.10.0"
  }
 },
 "nbformat": 4,
 "nbformat_minor": 2
}
